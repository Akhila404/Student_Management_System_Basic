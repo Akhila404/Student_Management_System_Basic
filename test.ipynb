{
 "cells": [
  {
   "cell_type": "markdown",
   "metadata": {},
   "source": [
    "### Student Management System \n",
    "\n",
    ""
   ]
  },
  {
   "cell_type": "code",
   "execution_count": 3,
   "metadata": {},
   "outputs": [],
   "source": [
    "import sqlite3"
   ]
  },
  {
   "cell_type": "code",
   "execution_count": 4,
   "metadata": {},
   "outputs": [],
   "source": [
    "#created a db. If already a db with name exists in this file, then it will connect with that db. Otherwise it creates a new DB.\n",
    "\n",
    "com = sqlite3.connect(\"sms.db\")"
   ]
  },
  {
   "cell_type": "code",
   "execution_count": 6,
   "metadata": {},
   "outputs": [],
   "source": [
    "cur = com.cursor()"
   ]
  },
  {
   "cell_type": "code",
   "execution_count": 8,
   "metadata": {},
   "outputs": [],
   "source": [
    "cur.execute('''\n",
    "                CREATE TABLE STUDENT(\n",
    "                SID INT,\n",
    "                SNAME CHAR(40),\n",
    "                EMAIL VARCHAR(60),\n",
    "                CITY CHAR(40)\n",
    "                    )''')\n",
    "\n",
    "com.commit()\n",
    "\n",
    "",
    ""
   ]
  },
  {
   "cell_type": "code",
   "execution_count": 9,
   "metadata": {},
   "outputs": [
    {
     "data": {
      "text/plain": [
       "<sqlite3.Cursor at 0x214ad434e40>"
      ]
     },
     "execution_count": 9,
     "metadata": {},
     "output_type": "execute_result"
    }
   ],
   "source": [
    "cur.execute('''\n",
    "                CREATE TABLE COURSE(\n",
    "                CID INT,\n",
    "                COURSENAME CHAR(40),\n",
    "                SID INT,\n",
    "                PRICE FLOAT\n",
    "                    )''')\n",
    "\n",
    "com.commit()"
   ]
  },
  {
   "cell_type": "code",
   "execution_count": 14,
   "metadata": {},
   "outputs": [],
   "source": [
    "\n",
    "\n",
    "cur.execute('''\n",
    "                CREATE TABLE TRANSac(\n",
    "                TID INT,\n",
    "                SID INT,\n",
    "                CID INT,\n",
    "                METHOD VARCHAR(40)\n",
    "                    )''')\n",
    "com.commit()"
   ]
  },
  {
   "cell_type": "code",
   "execution_count": 16,
   "metadata": {},
   "outputs": [
    {
     "data": {
      "text/plain": [
       "<sqlite3.Cursor at 0x214ad434e40>"
      ]
     },
     "execution_count": 16,
     "metadata": {},
     "output_type": "execute_result"
    }
   ],
   "source": [
    "#cur.execute(\"DROP TABLE TRANS\")                # FOR dropping any table that is created."
   ]
  },
  {
   "cell_type": "code",
   "execution_count": null,
   "metadata": {},
   "outputs": [],
   "source": []
  },
  {
   "cell_type": "code",
   "execution_count": null,
   "metadata": {},
   "outputs": [],
   "source": []
  }
 ],
 "metadata": {
  "kernelspec": {
   "display_name": "Python 3",
   "language": "python",
   "name": "python3"
  },
  "language_info": {
   "codemirror_mode": {
    "name": "ipython",
    "version": 3
   },
   "file_extension": ".py",
   "mimetype": "text/x-python",
   "name": "python",
   "nbconvert_exporter": "python",
   "pygments_lexer": "ipython3",
   "version": "3.12.3"
  }
 },
 "nbformat": 4,
 "nbformat_minor": 2
}
